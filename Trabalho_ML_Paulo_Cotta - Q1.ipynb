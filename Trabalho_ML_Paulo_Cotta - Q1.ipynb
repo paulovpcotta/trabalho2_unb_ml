{
 "cells": [
  {
   "cell_type": "code",
   "execution_count": 30,
   "metadata": {},
   "outputs": [],
   "source": [
    "from __future__ import print_function\n",
    "\n",
    "# Keras Models\n",
    "import keras \n",
    "from keras.models import Sequential\n",
    "from keras.layers import Dense, Dropout, Activation, Flatten\n",
    "from keras.datasets import fashion_mnist\n",
    "\n",
    "# Aditional Libs\n",
    "import numpy as np\n",
    "import pandas as pd\n",
    "import seaborn as sns\n",
    "import os\n",
    "import matplotlib.pyplot as plt\n",
    "from sklearn.model_selection import train_test_split\n",
    "from keras.callbacks import ModelCheckpoint\n",
    "from keras.utils import np_utils"
   ]
  },
  {
   "cell_type": "code",
   "execution_count": 2,
   "metadata": {},
   "outputs": [],
   "source": [
    "# Separando em treino, teste e validação\n",
    "(X_train, y_train), (X_test, y_test) = fashion_mnist.load_data()"
   ]
  },
  {
   "cell_type": "code",
   "execution_count": 3,
   "metadata": {},
   "outputs": [
    {
     "name": "stdout",
     "output_type": "stream",
     "text": [
      "X_train original shape (60000, 28, 28)\n",
      "y_train original shape (60000,)\n"
     ]
    }
   ],
   "source": [
    "# Shapes\n",
    "print(\"X_train original shape\", X_train.shape)\n",
    "print(\"y_train original shape\", y_train.shape)"
   ]
  },
  {
   "cell_type": "code",
   "execution_count": 4,
   "metadata": {},
   "outputs": [
    {
     "data": {
      "image/png": "[encoded data removed]",
      "text/plain": [
       "<Figure size 720x288 with 10 Axes>"
      ]
     },
     "metadata": {
      "needs_background": "light"
     },
     "output_type": "display_data"
    }
   ],
   "source": [
    "# Mostrando as classes\n",
    "class_labels_dict = {0:\"T-shirt/top\",1:\"Trouser\",2:\"Pullover\",3:\"Dress\",4:\"Coat\",5:\"Sandal\",6:\"Shirt\",7:\"Sneaker\",8:\"Bag\",9:\"Ankle boot\"}\n",
    "\n",
    "fig = plt.figure(figsize=(10,4))\n",
    "\n",
    "for i in range(10):\n",
    "    plt.subplot(2,5,i+1)\n",
    "    img = X_train[y_train == i][0]\n",
    "    plt.imshow(img, cmap='gray', interpolation='none')\n",
    "    plt.title(\"Class: {}\".format(class_labels_dict[i]))\n",
    "    plt.axis('off')\n",
    "    \n",
    "plt.tight_layout()"
   ]
  },
  {
   "cell_type": "code",
   "execution_count": 5,
   "metadata": {},
   "outputs": [
    {
     "name": "stdout",
     "output_type": "stream",
     "text": [
      "Training matrix shape (60000, 784)\n",
      "Testing matrix shape (10000, 784)\n"
     ]
    }
   ],
   "source": [
    "# Fazendo o reshape das imagens\n",
    "X_train = X_train.reshape(X_train.shape[0], 784)\n",
    "X_test = X_test.reshape(X_test.shape[0], 784)\n",
    "X_train = X_train.astype('float32')\n",
    "X_test = X_test.astype('float32')\n",
    "\n",
    "print(\"Training matrix shape\", X_train.shape)\n",
    "print(\"Testing matrix shape\", X_test.shape)"
   ]
  },
  {
   "cell_type": "code",
   "execution_count": 6,
   "metadata": {},
   "outputs": [],
   "source": [
    "# Normalização\n",
    "X_train /= 255\n",
    "X_test /= 255"
   ]
  },
  {
   "cell_type": "code",
   "execution_count": 7,
   "metadata": {},
   "outputs": [],
   "source": [
    "# Convertendo para 1D\n",
    "num_classes = 10\n",
    "Y_train = np_utils.to_categorical(y_train, num_classes)\n",
    "Y_test = np_utils.to_categorical(y_test, num_classes)"
   ]
  },
  {
   "cell_type": "code",
   "execution_count": 8,
   "metadata": {},
   "outputs": [],
   "source": [
    "# Função do modelo\n",
    "def mlp():\n",
    "    model = Sequential()\n",
    "    model.add(Dense(512, input_shape=(784,)))\n",
    "                                            \n",
    "    model.add(Activation('relu'))\n",
    "    model.add(Dropout(0.2))\n",
    "    model.add(Dense(512)) \n",
    "    model.add(Activation('relu'))\n",
    "    model.add(Dropout(0.2))\n",
    "    num_classes = len(np.unique(y_train))\n",
    "    model.add(Dense(num_classes))\n",
    "    model.add(Activation('softmax'))\n",
    "\n",
    "    return model"
   ]
  },
  {
   "cell_type": "code",
   "execution_count": 9,
   "metadata": {},
   "outputs": [
    {
     "name": "stdout",
     "output_type": "stream",
     "text": [
      "WARNING:tensorflow:From /home/stefanini/.local/lib/python3.6/site-packages/tensorflow/python/ops/resource_variable_ops.py:435: colocate_with (from tensorflow.python.framework.ops) is deprecated and will be removed in a future version.\n",
      "Instructions for updating:\n",
      "Colocations handled automatically by placer.\n"
     ]
    }
   ],
   "source": [
    "# Carregando o modelo\n",
    "model_mlp = mlp()"
   ]
  },
  {
   "cell_type": "code",
   "execution_count": 20,
   "metadata": {},
   "outputs": [],
   "source": [
    "# Entropia cruzada conforme solicitado (critério de treinamento de minimização da entropia cruzada)\n",
    "model_mlp.compile(loss='categorical_crossentropy', optimizer='adam', metrics=['accuracy'])"
   ]
  },
  {
   "cell_type": "code",
   "execution_count": 13,
   "metadata": {},
   "outputs": [
    {
     "name": "stdout",
     "output_type": "stream",
     "text": [
      "WARNING:tensorflow:From /home/stefanini/.local/lib/python3.6/site-packages/tensorflow/python/ops/math_ops.py:3066: to_int32 (from tensorflow.python.ops.math_ops) is deprecated and will be removed in a future version.\n",
      "Instructions for updating:\n",
      "Use tf.cast instead.\n",
      "Train on 60000 samples, validate on 10000 samples\n",
      "Epoch 1/25\n",
      "60000/60000 [==============================] - 3s 50us/step - loss: 0.5150 - accuracy: 0.8131 - val_loss: 0.4115 - val_accuracy: 0.8493\n",
      "Epoch 2/25\n",
      "60000/60000 [==============================] - 3s 52us/step - loss: 0.3817 - accuracy: 0.8597 - val_loss: 0.3766 - val_accuracy: 0.8649\n",
      "Epoch 3/25\n",
      "60000/60000 [==============================] - 3s 54us/step - loss: 0.3445 - accuracy: 0.8738 - val_loss: 0.3587 - val_accuracy: 0.8702\n",
      "Epoch 4/25\n",
      "60000/60000 [==============================] - 3s 51us/step - loss: 0.3263 - accuracy: 0.8789 - val_loss: 0.3595 - val_accuracy: 0.8683\n",
      "Epoch 5/25\n",
      "60000/60000 [==============================] - 3s 51us/step - loss: 0.3079 - accuracy: 0.8840 - val_loss: 0.3469 - val_accuracy: 0.8717\n",
      "Epoch 6/25\n",
      "60000/60000 [==============================] - 3s 53us/step - loss: 0.2958 - accuracy: 0.8896 - val_loss: 0.3333 - val_accuracy: 0.8773\n",
      "Epoch 7/25\n",
      "60000/60000 [==============================] - 3s 48us/step - loss: 0.2876 - accuracy: 0.8929 - val_loss: 0.3339 - val_accuracy: 0.8808\n",
      "Epoch 8/25\n",
      "60000/60000 [==============================] - 3s 50us/step - loss: 0.2762 - accuracy: 0.8960 - val_loss: 0.3340 - val_accuracy: 0.8811\n",
      "Epoch 9/25\n",
      "60000/60000 [==============================] - 3s 51us/step - loss: 0.2660 - accuracy: 0.9007 - val_loss: 0.3258 - val_accuracy: 0.8765\n",
      "Epoch 10/25\n",
      "60000/60000 [==============================] - 3s 50us/step - loss: 0.2632 - accuracy: 0.9018 - val_loss: 0.3254 - val_accuracy: 0.8852\n",
      "Epoch 11/25\n",
      "60000/60000 [==============================] - 3s 50us/step - loss: 0.2524 - accuracy: 0.9045 - val_loss: 0.3145 - val_accuracy: 0.8878\n",
      "Epoch 12/25\n",
      "60000/60000 [==============================] - 3s 50us/step - loss: 0.2463 - accuracy: 0.9065 - val_loss: 0.3107 - val_accuracy: 0.8887\n",
      "Epoch 13/25\n",
      "60000/60000 [==============================] - 3s 50us/step - loss: 0.2419 - accuracy: 0.9094 - val_loss: 0.3125 - val_accuracy: 0.8891\n",
      "Epoch 14/25\n",
      "60000/60000 [==============================] - 3s 49us/step - loss: 0.2363 - accuracy: 0.9115 - val_loss: 0.3050 - val_accuracy: 0.8911\n",
      "Epoch 15/25\n",
      "60000/60000 [==============================] - 3s 49us/step - loss: 0.2321 - accuracy: 0.9111 - val_loss: 0.3164 - val_accuracy: 0.8873\n",
      "Epoch 16/25\n",
      "60000/60000 [==============================] - 3s 49us/step - loss: 0.2247 - accuracy: 0.9146 - val_loss: 0.3098 - val_accuracy: 0.8896\n",
      "Epoch 17/25\n",
      "60000/60000 [==============================] - 3s 49us/step - loss: 0.2174 - accuracy: 0.9168 - val_loss: 0.3148 - val_accuracy: 0.8940\n",
      "Epoch 18/25\n",
      "60000/60000 [==============================] - 3s 49us/step - loss: 0.2168 - accuracy: 0.9173 - val_loss: 0.3146 - val_accuracy: 0.8938\n",
      "Epoch 19/25\n",
      "60000/60000 [==============================] - 3s 49us/step - loss: 0.2099 - accuracy: 0.9203 - val_loss: 0.3178 - val_accuracy: 0.8915\n",
      "Epoch 20/25\n",
      "60000/60000 [==============================] - 3s 48us/step - loss: 0.2074 - accuracy: 0.9209 - val_loss: 0.3089 - val_accuracy: 0.8917\n",
      "Epoch 21/25\n",
      "60000/60000 [==============================] - 3s 49us/step - loss: 0.2008 - accuracy: 0.9235 - val_loss: 0.3172 - val_accuracy: 0.8950\n",
      "Epoch 22/25\n",
      "60000/60000 [==============================] - 3s 49us/step - loss: 0.1968 - accuracy: 0.9240 - val_loss: 0.3165 - val_accuracy: 0.8924\n",
      "Epoch 23/25\n",
      "60000/60000 [==============================] - 3s 48us/step - loss: 0.1973 - accuracy: 0.9247 - val_loss: 0.3032 - val_accuracy: 0.8949\n",
      "Epoch 24/25\n",
      "60000/60000 [==============================] - 3s 48us/step - loss: 0.1910 - accuracy: 0.9277 - val_loss: 0.3172 - val_accuracy: 0.8964\n",
      "Epoch 25/25\n",
      "60000/60000 [==============================] - 3s 49us/step - loss: 0.1891 - accuracy: 0.9271 - val_loss: 0.3165 - val_accuracy: 0.8910\n"
     ]
    }
   ],
   "source": [
    "# Treinamento\n",
    "# Variável de epocas\n",
    "filepath=\"mlppesos.hdf5\"\n",
    "checkpoint = ModelCheckpoint(filepath, monitor='val_acc', verbose=1, save_best_only=True, mode='max')\n",
    "nepochs = 100\n",
    "'''\n",
    "nepochs = 200\n",
    "nepochs = 300\n",
    "'''\n",
    "history = model_mlp.fit(X_train, \n",
    "                    Y_train,\n",
    "                    batch_size=128, \n",
    "                    epochs=nepochs,\n",
    "                    verbose=1,\n",
    "                    validation_data=(X_test,Y_test))"
   ]
  },
  {
   "cell_type": "code",
   "execution_count": 14,
   "metadata": {},
   "outputs": [
    {
     "name": "stdout",
     "output_type": "stream",
     "text": [
      "Model: \"sequential_1\"\n",
      "_________________________________________________________________\n",
      "Layer (type)                 Output Shape              Param #   \n",
      "=================================================================\n",
      "dense_1 (Dense)              (None, 512)               401920    \n",
      "_________________________________________________________________\n",
      "activation_1 (Activation)    (None, 512)               0         \n",
      "_________________________________________________________________\n",
      "dropout_1 (Dropout)          (None, 512)               0         \n",
      "_________________________________________________________________\n",
      "dense_2 (Dense)              (None, 512)               262656    \n",
      "_________________________________________________________________\n",
      "activation_2 (Activation)    (None, 512)               0         \n",
      "_________________________________________________________________\n",
      "dropout_2 (Dropout)          (None, 512)               0         \n",
      "_________________________________________________________________\n",
      "dense_3 (Dense)              (None, 10)                5130      \n",
      "_________________________________________________________________\n",
      "activation_3 (Activation)    (None, 10)                0         \n",
      "=================================================================\n",
      "Total params: 669,706\n",
      "Trainable params: 669,706\n",
      "Non-trainable params: 0\n",
      "_________________________________________________________________\n"
     ]
    }
   ],
   "source": [
    "# Arquitetura do modelo\n",
    "model_mlp.summary()"
   ]
  },
  {
   "cell_type": "markdown",
   "metadata": {},
   "source": [
    "### Performance do modelo"
   ]
  },
  {
   "cell_type": "code",
   "execution_count": 21,
   "metadata": {},
   "outputs": [
    {
     "data": {
      "image/png": "[encoded data removed]",
      "text/plain": [
       "<Figure size 432x288 with 1 Axes>"
      ]
     },
     "metadata": {
      "needs_background": "light"
     },
     "output_type": "display_data"
    }
   ],
   "source": [
    "plt.plot(range(1,1+len(history.history['accuracy'])), history.history['accuracy'])\n",
    "plt.plot(range(1,1+len(history.history['val_loss'])), history.history['val_loss'])\n",
    "plt.title('Acuracia vs Perda')\n",
    "plt.ylabel('Acuracia')\n",
    "plt.xlabel('Perda')\n",
    "plt.legend(['train', 'test'], loc='best')\n",
    "plt.xticks(np.arange(0,28,2))\n",
    "plt.show()"
   ]
  },
  {
   "cell_type": "code",
   "execution_count": 24,
   "metadata": {},
   "outputs": [
    {
     "name": "stdout",
     "output_type": "stream",
     "text": [
      "Best test accuracy was 0.927667 at epoch 24\n"
     ]
    }
   ],
   "source": [
    "# Melhor acuracia\n",
    "best_score = max(history.history['accuracy'])\n",
    "best_epoch = np.array(history.history['accuracy']).argmax()+1\n",
    "print('Best test accuracy was %f at epoch %i' % (best_score, best_epoch))"
   ]
  },
  {
   "cell_type": "code",
   "execution_count": 27,
   "metadata": {},
   "outputs": [],
   "source": [
    "# Output\n",
    "y_pred = model_mlp.predict_classes(X_test)\n",
    "\n",
    "correct_indices = np.nonzero(y_pred == y_test)[0]\n",
    "incorrect_indices = np.nonzero(y_pred != y_test)[0]"
   ]
  },
  {
   "cell_type": "markdown",
   "metadata": {},
   "source": [
    "### Metricas"
   ]
  },
  {
   "cell_type": "code",
   "execution_count": 28,
   "metadata": {},
   "outputs": [
    {
     "name": "stdout",
     "output_type": "stream",
     "text": [
      "              precision    recall  f1-score   support\n",
      "\n",
      " T-shirt/top       0.82      0.85      0.83      1000\n",
      "     Trouser       1.00      0.97      0.98      1000\n",
      "    Pullover       0.77      0.84      0.80      1000\n",
      "       Dress       0.91      0.89      0.90      1000\n",
      "        Coat       0.81      0.79      0.80      1000\n",
      "      Sandal       0.99      0.97      0.98      1000\n",
      "       Shirt       0.71      0.71      0.71      1000\n",
      "     Sneaker       0.94      0.98      0.96      1000\n",
      "         Bag       1.00      0.97      0.98      1000\n",
      "  Ankle boot       0.97      0.95      0.96      1000\n",
      "\n",
      "    accuracy                           0.89     10000\n",
      "   macro avg       0.89      0.89      0.89     10000\n",
      "weighted avg       0.89      0.89      0.89     10000\n",
      "\n"
     ]
    }
   ],
   "source": [
    "from sklearn.metrics import classification_report, confusion_matrix\n",
    "target_names = [class_labels_dict[x] for x in range(0,10)]\n",
    "print(classification_report(y_test, y_pred, target_names=target_names))"
   ]
  },
  {
   "cell_type": "code",
   "execution_count": 31,
   "metadata": {},
   "outputs": [
    {
     "data": {
      "text/html": [
       "<div>\n",
       "<style scoped>\n",
       "    .dataframe tbody tr th:only-of-type {\n",
       "        vertical-align: middle;\n",
       "    }\n",
       "\n",
       "    .dataframe tbody tr th {\n",
       "        vertical-align: top;\n",
       "    }\n",
       "\n",
       "    .dataframe thead th {\n",
       "        text-align: right;\n",
       "    }\n",
       "</style>\n",
       "<table border=\"1\" class=\"dataframe\">\n",
       "  <thead>\n",
       "    <tr style=\"text-align: right;\">\n",
       "      <th>Atual</th>\n",
       "      <th>T-shirt/top</th>\n",
       "      <th>Trouser</th>\n",
       "      <th>Pullover</th>\n",
       "      <th>Dress</th>\n",
       "      <th>Coat</th>\n",
       "      <th>Sandal</th>\n",
       "      <th>Shirt</th>\n",
       "      <th>Sneaker</th>\n",
       "      <th>Bag</th>\n",
       "      <th>Ankle boot</th>\n",
       "    </tr>\n",
       "    <tr>\n",
       "      <th>Preditivo</th>\n",
       "      <th></th>\n",
       "      <th></th>\n",
       "      <th></th>\n",
       "      <th></th>\n",
       "      <th></th>\n",
       "      <th></th>\n",
       "      <th></th>\n",
       "      <th></th>\n",
       "      <th></th>\n",
       "      <th></th>\n",
       "    </tr>\n",
       "  </thead>\n",
       "  <tbody>\n",
       "    <tr>\n",
       "      <th>T-shirt/top</th>\n",
       "      <td>846</td>\n",
       "      <td>0</td>\n",
       "      <td>13</td>\n",
       "      <td>19</td>\n",
       "      <td>2</td>\n",
       "      <td>1</td>\n",
       "      <td>118</td>\n",
       "      <td>0</td>\n",
       "      <td>1</td>\n",
       "      <td>0</td>\n",
       "    </tr>\n",
       "    <tr>\n",
       "      <th>Trouser</th>\n",
       "      <td>4</td>\n",
       "      <td>973</td>\n",
       "      <td>0</td>\n",
       "      <td>16</td>\n",
       "      <td>4</td>\n",
       "      <td>0</td>\n",
       "      <td>3</td>\n",
       "      <td>0</td>\n",
       "      <td>0</td>\n",
       "      <td>0</td>\n",
       "    </tr>\n",
       "    <tr>\n",
       "      <th>Pullover</th>\n",
       "      <td>22</td>\n",
       "      <td>1</td>\n",
       "      <td>836</td>\n",
       "      <td>6</td>\n",
       "      <td>72</td>\n",
       "      <td>0</td>\n",
       "      <td>63</td>\n",
       "      <td>0</td>\n",
       "      <td>0</td>\n",
       "      <td>0</td>\n",
       "    </tr>\n",
       "    <tr>\n",
       "      <th>Dress</th>\n",
       "      <td>27</td>\n",
       "      <td>2</td>\n",
       "      <td>14</td>\n",
       "      <td>889</td>\n",
       "      <td>34</td>\n",
       "      <td>0</td>\n",
       "      <td>32</td>\n",
       "      <td>0</td>\n",
       "      <td>2</td>\n",
       "      <td>0</td>\n",
       "    </tr>\n",
       "    <tr>\n",
       "      <th>Coat</th>\n",
       "      <td>3</td>\n",
       "      <td>0</td>\n",
       "      <td>130</td>\n",
       "      <td>25</td>\n",
       "      <td>788</td>\n",
       "      <td>0</td>\n",
       "      <td>54</td>\n",
       "      <td>0</td>\n",
       "      <td>0</td>\n",
       "      <td>0</td>\n",
       "    </tr>\n",
       "    <tr>\n",
       "      <th>Sandal</th>\n",
       "      <td>0</td>\n",
       "      <td>0</td>\n",
       "      <td>0</td>\n",
       "      <td>0</td>\n",
       "      <td>0</td>\n",
       "      <td>974</td>\n",
       "      <td>0</td>\n",
       "      <td>18</td>\n",
       "      <td>0</td>\n",
       "      <td>8</td>\n",
       "    </tr>\n",
       "    <tr>\n",
       "      <th>Shirt</th>\n",
       "      <td>123</td>\n",
       "      <td>0</td>\n",
       "      <td>84</td>\n",
       "      <td>21</td>\n",
       "      <td>64</td>\n",
       "      <td>0</td>\n",
       "      <td>707</td>\n",
       "      <td>0</td>\n",
       "      <td>1</td>\n",
       "      <td>0</td>\n",
       "    </tr>\n",
       "    <tr>\n",
       "      <th>Sneaker</th>\n",
       "      <td>0</td>\n",
       "      <td>0</td>\n",
       "      <td>0</td>\n",
       "      <td>0</td>\n",
       "      <td>0</td>\n",
       "      <td>5</td>\n",
       "      <td>0</td>\n",
       "      <td>977</td>\n",
       "      <td>0</td>\n",
       "      <td>18</td>\n",
       "    </tr>\n",
       "    <tr>\n",
       "      <th>Bag</th>\n",
       "      <td>7</td>\n",
       "      <td>0</td>\n",
       "      <td>2</td>\n",
       "      <td>5</td>\n",
       "      <td>3</td>\n",
       "      <td>1</td>\n",
       "      <td>13</td>\n",
       "      <td>3</td>\n",
       "      <td>966</td>\n",
       "      <td>0</td>\n",
       "    </tr>\n",
       "    <tr>\n",
       "      <th>Ankle boot</th>\n",
       "      <td>1</td>\n",
       "      <td>0</td>\n",
       "      <td>0</td>\n",
       "      <td>0</td>\n",
       "      <td>0</td>\n",
       "      <td>6</td>\n",
       "      <td>0</td>\n",
       "      <td>39</td>\n",
       "      <td>0</td>\n",
       "      <td>954</td>\n",
       "    </tr>\n",
       "  </tbody>\n",
       "</table>\n",
       "</div>"
      ],
      "text/plain": [
       "Atual        T-shirt/top  Trouser  Pullover  Dress  Coat  Sandal  Shirt  \\\n",
       "Preditivo                                                                 \n",
       "T-shirt/top          846        0        13     19     2       1    118   \n",
       "Trouser                4      973         0     16     4       0      3   \n",
       "Pullover              22        1       836      6    72       0     63   \n",
       "Dress                 27        2        14    889    34       0     32   \n",
       "Coat                   3        0       130     25   788       0     54   \n",
       "Sandal                 0        0         0      0     0     974      0   \n",
       "Shirt                123        0        84     21    64       0    707   \n",
       "Sneaker                0        0         0      0     0       5      0   \n",
       "Bag                    7        0         2      5     3       1     13   \n",
       "Ankle boot             1        0         0      0     0       6      0   \n",
       "\n",
       "Atual        Sneaker  Bag  Ankle boot  \n",
       "Preditivo                              \n",
       "T-shirt/top        0    1           0  \n",
       "Trouser            0    0           0  \n",
       "Pullover           0    0           0  \n",
       "Dress              0    2           0  \n",
       "Coat               0    0           0  \n",
       "Sandal            18    0           8  \n",
       "Shirt              0    1           0  \n",
       "Sneaker          977    0          18  \n",
       "Bag                3  966           0  \n",
       "Ankle boot        39    0         954  "
      ]
     },
     "execution_count": 31,
     "metadata": {},
     "output_type": "execute_result"
    }
   ],
   "source": [
    "matrix = pd.DataFrame(confusion_matrix(y_test, y_pred), index=target_names, columns=target_names)\n",
    "matrix.index.name = 'Preditivo'\n",
    "matrix.columns.name = 'Atual'\n",
    "matrix"
   ]
  }
 ],
 "metadata": {
  "kernelspec": {
   "display_name": "Python 3",
   "language": "python",
   "name": "python3"
  },
  "language_info": {
   "codemirror_mode": {
    "name": "ipython",
    "version": 3
   },
   "file_extension": ".py",
   "mimetype": "text/x-python",
   "name": "python",
   "nbconvert_exporter": "python",
   "pygments_lexer": "ipython3",
   "version": "3.6.9"
  }
 },
 "nbformat": 4,
 "nbformat_minor": 2
}
